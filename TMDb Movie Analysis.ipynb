{
 "cells": [
  {
   "cell_type": "markdown",
   "id": "ahead-diagnosis",
   "metadata": {},
   "source": [
    "# Project: TMDb Movie Data Analysis \n",
    "### Prepared by : Muhammad Usman Siddiqui "
   ]
  },
  {
   "cell_type": "markdown",
   "id": "miniature-prayer",
   "metadata": {},
   "source": [
    "## Introduction: \n",
    "This report discusses the analysis conducted on a data set about movies obtained from TMDb. The data is imported and cleaned to remove the unecessary parts. Then the data is explored, visualized and statistical analyses are used to answer questions related to the data. The conclusions are communicated at the end of the analysis.  \n",
    "\n"
   ]
  },
  {
   "cell_type": "markdown",
   "id": "retired-parliament",
   "metadata": {},
   "source": [
    "## Questions The Analysis Aims to Address: "
   ]
  },
  {
   "cell_type": "markdown",
   "id": "casual-frost",
   "metadata": {},
   "source": [
    "### Q1. How does the runtime affect the user rating of a movie?"
   ]
  },
  {
   "cell_type": "markdown",
   "id": "fossil-maine",
   "metadata": {},
   "source": [
    "### Q2. Does a higher budget result in a more popular film?"
   ]
  },
  {
   "cell_type": "markdown",
   "id": "wanted-glenn",
   "metadata": {},
   "source": [
    "### Q3. Are people watching more movies now? Has the revenue increased overtime?"
   ]
  },
  {
   "cell_type": "markdown",
   "id": "structural-paste",
   "metadata": {},
   "source": [
    "### Q4. How to maximize the revenue of a film? "
   ]
  },
  {
   "cell_type": "code",
   "execution_count": 82,
   "id": "spatial-profit",
   "metadata": {},
   "outputs": [],
   "source": [
    "import numpy as np \n",
    "import pandas as pd \n",
    "import matplotlib.pyplot as plt \n",
    "\n",
    "%matplotlib inline\n",
    "plt.rcParams[\"figure.figsize\"] = (10,10)"
   ]
  },
  {
   "cell_type": "markdown",
   "id": "loved-peripheral",
   "metadata": {
    "slideshow": {
     "slide_type": "slide"
    }
   },
   "source": [
    "## Data Wrangling"
   ]
  },
  {
   "cell_type": "markdown",
   "id": "informational-waterproof",
   "metadata": {},
   "source": [
    "### 1. The data is imported onto Jupyter Notebook"
   ]
  },
  {
   "cell_type": "code",
   "execution_count": 83,
   "id": "unavailable-student",
   "metadata": {
    "slideshow": {
     "slide_type": "slide"
    }
   },
   "outputs": [
    {
     "data": {
      "text/html": [
       "<div>\n",
       "<style scoped>\n",
       "    .dataframe tbody tr th:only-of-type {\n",
       "        vertical-align: middle;\n",
       "    }\n",
       "\n",
       "    .dataframe tbody tr th {\n",
       "        vertical-align: top;\n",
       "    }\n",
       "\n",
       "    .dataframe thead th {\n",
       "        text-align: right;\n",
       "    }\n",
       "</style>\n",
       "<table border=\"1\" class=\"dataframe\">\n",
       "  <thead>\n",
       "    <tr style=\"text-align: right;\">\n",
       "      <th></th>\n",
       "      <th>id</th>\n",
       "      <th>imdb_id</th>\n",
       "      <th>popularity</th>\n",
       "      <th>budget</th>\n",
       "      <th>revenue</th>\n",
       "      <th>original_title</th>\n",
       "      <th>cast</th>\n",
       "      <th>homepage</th>\n",
       "      <th>director</th>\n",
       "      <th>tagline</th>\n",
       "      <th>...</th>\n",
       "      <th>overview</th>\n",
       "      <th>runtime</th>\n",
       "      <th>genres</th>\n",
       "      <th>production_companies</th>\n",
       "      <th>release_date</th>\n",
       "      <th>vote_count</th>\n",
       "      <th>vote_average</th>\n",
       "      <th>release_year</th>\n",
       "      <th>budget_adj</th>\n",
       "      <th>revenue_adj</th>\n",
       "    </tr>\n",
       "  </thead>\n",
       "  <tbody>\n",
       "    <tr>\n",
       "      <th>0</th>\n",
       "      <td>135397</td>\n",
       "      <td>tt0369610</td>\n",
       "      <td>32.985763</td>\n",
       "      <td>150000000</td>\n",
       "      <td>1513528810</td>\n",
       "      <td>Jurassic World</td>\n",
       "      <td>Chris Pratt|Bryce Dallas Howard|Irrfan Khan|Vi...</td>\n",
       "      <td>http://www.jurassicworld.com/</td>\n",
       "      <td>Colin Trevorrow</td>\n",
       "      <td>The park is open.</td>\n",
       "      <td>...</td>\n",
       "      <td>Twenty-two years after the events of Jurassic ...</td>\n",
       "      <td>124</td>\n",
       "      <td>Action|Adventure|Science Fiction|Thriller</td>\n",
       "      <td>Universal Studios|Amblin Entertainment|Legenda...</td>\n",
       "      <td>6/9/15</td>\n",
       "      <td>5562</td>\n",
       "      <td>6.5</td>\n",
       "      <td>2015</td>\n",
       "      <td>1.379999e+08</td>\n",
       "      <td>1.392446e+09</td>\n",
       "    </tr>\n",
       "    <tr>\n",
       "      <th>1</th>\n",
       "      <td>76341</td>\n",
       "      <td>tt1392190</td>\n",
       "      <td>28.419936</td>\n",
       "      <td>150000000</td>\n",
       "      <td>378436354</td>\n",
       "      <td>Mad Max: Fury Road</td>\n",
       "      <td>Tom Hardy|Charlize Theron|Hugh Keays-Byrne|Nic...</td>\n",
       "      <td>http://www.madmaxmovie.com/</td>\n",
       "      <td>George Miller</td>\n",
       "      <td>What a Lovely Day.</td>\n",
       "      <td>...</td>\n",
       "      <td>An apocalyptic story set in the furthest reach...</td>\n",
       "      <td>120</td>\n",
       "      <td>Action|Adventure|Science Fiction|Thriller</td>\n",
       "      <td>Village Roadshow Pictures|Kennedy Miller Produ...</td>\n",
       "      <td>5/13/15</td>\n",
       "      <td>6185</td>\n",
       "      <td>7.1</td>\n",
       "      <td>2015</td>\n",
       "      <td>1.379999e+08</td>\n",
       "      <td>3.481613e+08</td>\n",
       "    </tr>\n",
       "    <tr>\n",
       "      <th>2</th>\n",
       "      <td>262500</td>\n",
       "      <td>tt2908446</td>\n",
       "      <td>13.112507</td>\n",
       "      <td>110000000</td>\n",
       "      <td>295238201</td>\n",
       "      <td>Insurgent</td>\n",
       "      <td>Shailene Woodley|Theo James|Kate Winslet|Ansel...</td>\n",
       "      <td>http://www.thedivergentseries.movie/#insurgent</td>\n",
       "      <td>Robert Schwentke</td>\n",
       "      <td>One Choice Can Destroy You</td>\n",
       "      <td>...</td>\n",
       "      <td>Beatrice Prior must confront her inner demons ...</td>\n",
       "      <td>119</td>\n",
       "      <td>Adventure|Science Fiction|Thriller</td>\n",
       "      <td>Summit Entertainment|Mandeville Films|Red Wago...</td>\n",
       "      <td>3/18/15</td>\n",
       "      <td>2480</td>\n",
       "      <td>6.3</td>\n",
       "      <td>2015</td>\n",
       "      <td>1.012000e+08</td>\n",
       "      <td>2.716190e+08</td>\n",
       "    </tr>\n",
       "    <tr>\n",
       "      <th>3</th>\n",
       "      <td>140607</td>\n",
       "      <td>tt2488496</td>\n",
       "      <td>11.173104</td>\n",
       "      <td>200000000</td>\n",
       "      <td>2068178225</td>\n",
       "      <td>Star Wars: The Force Awakens</td>\n",
       "      <td>Harrison Ford|Mark Hamill|Carrie Fisher|Adam D...</td>\n",
       "      <td>http://www.starwars.com/films/star-wars-episod...</td>\n",
       "      <td>J.J. Abrams</td>\n",
       "      <td>Every generation has a story.</td>\n",
       "      <td>...</td>\n",
       "      <td>Thirty years after defeating the Galactic Empi...</td>\n",
       "      <td>136</td>\n",
       "      <td>Action|Adventure|Science Fiction|Fantasy</td>\n",
       "      <td>Lucasfilm|Truenorth Productions|Bad Robot</td>\n",
       "      <td>12/15/15</td>\n",
       "      <td>5292</td>\n",
       "      <td>7.5</td>\n",
       "      <td>2015</td>\n",
       "      <td>1.839999e+08</td>\n",
       "      <td>1.902723e+09</td>\n",
       "    </tr>\n",
       "    <tr>\n",
       "      <th>4</th>\n",
       "      <td>168259</td>\n",
       "      <td>tt2820852</td>\n",
       "      <td>9.335014</td>\n",
       "      <td>190000000</td>\n",
       "      <td>1506249360</td>\n",
       "      <td>Furious 7</td>\n",
       "      <td>Vin Diesel|Paul Walker|Jason Statham|Michelle ...</td>\n",
       "      <td>http://www.furious7.com/</td>\n",
       "      <td>James Wan</td>\n",
       "      <td>Vengeance Hits Home</td>\n",
       "      <td>...</td>\n",
       "      <td>Deckard Shaw seeks revenge against Dominic Tor...</td>\n",
       "      <td>137</td>\n",
       "      <td>Action|Crime|Thriller</td>\n",
       "      <td>Universal Pictures|Original Film|Media Rights ...</td>\n",
       "      <td>4/1/15</td>\n",
       "      <td>2947</td>\n",
       "      <td>7.3</td>\n",
       "      <td>2015</td>\n",
       "      <td>1.747999e+08</td>\n",
       "      <td>1.385749e+09</td>\n",
       "    </tr>\n",
       "  </tbody>\n",
       "</table>\n",
       "<p>5 rows × 21 columns</p>\n",
       "</div>"
      ],
      "text/plain": [
       "       id    imdb_id  popularity     budget     revenue  \\\n",
       "0  135397  tt0369610   32.985763  150000000  1513528810   \n",
       "1   76341  tt1392190   28.419936  150000000   378436354   \n",
       "2  262500  tt2908446   13.112507  110000000   295238201   \n",
       "3  140607  tt2488496   11.173104  200000000  2068178225   \n",
       "4  168259  tt2820852    9.335014  190000000  1506249360   \n",
       "\n",
       "                 original_title  \\\n",
       "0                Jurassic World   \n",
       "1            Mad Max: Fury Road   \n",
       "2                     Insurgent   \n",
       "3  Star Wars: The Force Awakens   \n",
       "4                     Furious 7   \n",
       "\n",
       "                                                cast  \\\n",
       "0  Chris Pratt|Bryce Dallas Howard|Irrfan Khan|Vi...   \n",
       "1  Tom Hardy|Charlize Theron|Hugh Keays-Byrne|Nic...   \n",
       "2  Shailene Woodley|Theo James|Kate Winslet|Ansel...   \n",
       "3  Harrison Ford|Mark Hamill|Carrie Fisher|Adam D...   \n",
       "4  Vin Diesel|Paul Walker|Jason Statham|Michelle ...   \n",
       "\n",
       "                                            homepage          director  \\\n",
       "0                      http://www.jurassicworld.com/   Colin Trevorrow   \n",
       "1                        http://www.madmaxmovie.com/     George Miller   \n",
       "2     http://www.thedivergentseries.movie/#insurgent  Robert Schwentke   \n",
       "3  http://www.starwars.com/films/star-wars-episod...       J.J. Abrams   \n",
       "4                           http://www.furious7.com/         James Wan   \n",
       "\n",
       "                         tagline  ...  \\\n",
       "0              The park is open.  ...   \n",
       "1             What a Lovely Day.  ...   \n",
       "2     One Choice Can Destroy You  ...   \n",
       "3  Every generation has a story.  ...   \n",
       "4            Vengeance Hits Home  ...   \n",
       "\n",
       "                                            overview runtime  \\\n",
       "0  Twenty-two years after the events of Jurassic ...     124   \n",
       "1  An apocalyptic story set in the furthest reach...     120   \n",
       "2  Beatrice Prior must confront her inner demons ...     119   \n",
       "3  Thirty years after defeating the Galactic Empi...     136   \n",
       "4  Deckard Shaw seeks revenge against Dominic Tor...     137   \n",
       "\n",
       "                                      genres  \\\n",
       "0  Action|Adventure|Science Fiction|Thriller   \n",
       "1  Action|Adventure|Science Fiction|Thriller   \n",
       "2         Adventure|Science Fiction|Thriller   \n",
       "3   Action|Adventure|Science Fiction|Fantasy   \n",
       "4                      Action|Crime|Thriller   \n",
       "\n",
       "                                production_companies release_date vote_count  \\\n",
       "0  Universal Studios|Amblin Entertainment|Legenda...       6/9/15       5562   \n",
       "1  Village Roadshow Pictures|Kennedy Miller Produ...      5/13/15       6185   \n",
       "2  Summit Entertainment|Mandeville Films|Red Wago...      3/18/15       2480   \n",
       "3          Lucasfilm|Truenorth Productions|Bad Robot     12/15/15       5292   \n",
       "4  Universal Pictures|Original Film|Media Rights ...       4/1/15       2947   \n",
       "\n",
       "   vote_average  release_year    budget_adj   revenue_adj  \n",
       "0           6.5          2015  1.379999e+08  1.392446e+09  \n",
       "1           7.1          2015  1.379999e+08  3.481613e+08  \n",
       "2           6.3          2015  1.012000e+08  2.716190e+08  \n",
       "3           7.5          2015  1.839999e+08  1.902723e+09  \n",
       "4           7.3          2015  1.747999e+08  1.385749e+09  \n",
       "\n",
       "[5 rows x 21 columns]"
      ]
     },
     "execution_count": 83,
     "metadata": {},
     "output_type": "execute_result"
    }
   ],
   "source": [
    "df = pd.read_csv ('tmdb-movies.csv')\n",
    "df.head()"
   ]
  },
  {
   "cell_type": "markdown",
   "id": "engaging-ottawa",
   "metadata": {},
   "source": [
    "### 2. Finding basic information of the data to make sense of it "
   ]
  },
  {
   "cell_type": "code",
   "execution_count": 84,
   "id": "motivated-bridge",
   "metadata": {
    "slideshow": {
     "slide_type": "slide"
    }
   },
   "outputs": [
    {
     "data": {
      "text/plain": [
       "(10866, 21)"
      ]
     },
     "execution_count": 84,
     "metadata": {},
     "output_type": "execute_result"
    }
   ],
   "source": [
    "#There are 10866 rows and 21 columns\n",
    "\n",
    "df.shape"
   ]
  },
  {
   "cell_type": "code",
   "execution_count": 85,
   "id": "complimentary-empty",
   "metadata": {},
   "outputs": [
    {
     "data": {
      "text/plain": [
       "id                        int64\n",
       "imdb_id                  object\n",
       "popularity              float64\n",
       "budget                    int64\n",
       "revenue                   int64\n",
       "original_title           object\n",
       "cast                     object\n",
       "homepage                 object\n",
       "director                 object\n",
       "tagline                  object\n",
       "keywords                 object\n",
       "overview                 object\n",
       "runtime                   int64\n",
       "genres                   object\n",
       "production_companies     object\n",
       "release_date             object\n",
       "vote_count                int64\n",
       "vote_average            float64\n",
       "release_year              int64\n",
       "budget_adj              float64\n",
       "revenue_adj             float64\n",
       "dtype: object"
      ]
     },
     "execution_count": 85,
     "metadata": {},
     "output_type": "execute_result"
    }
   ],
   "source": [
    "df.dtypes"
   ]
  },
  {
   "cell_type": "code",
   "execution_count": 86,
   "id": "functioning-lounge",
   "metadata": {},
   "outputs": [
    {
     "name": "stdout",
     "output_type": "stream",
     "text": [
      "<class 'pandas.core.frame.DataFrame'>\n",
      "RangeIndex: 10866 entries, 0 to 10865\n",
      "Data columns (total 21 columns):\n",
      " #   Column                Non-Null Count  Dtype  \n",
      "---  ------                --------------  -----  \n",
      " 0   id                    10866 non-null  int64  \n",
      " 1   imdb_id               10856 non-null  object \n",
      " 2   popularity            10866 non-null  float64\n",
      " 3   budget                10866 non-null  int64  \n",
      " 4   revenue               10866 non-null  int64  \n",
      " 5   original_title        10866 non-null  object \n",
      " 6   cast                  10790 non-null  object \n",
      " 7   homepage              2936 non-null   object \n",
      " 8   director              10822 non-null  object \n",
      " 9   tagline               8042 non-null   object \n",
      " 10  keywords              9373 non-null   object \n",
      " 11  overview              10862 non-null  object \n",
      " 12  runtime               10866 non-null  int64  \n",
      " 13  genres                10843 non-null  object \n",
      " 14  production_companies  9836 non-null   object \n",
      " 15  release_date          10866 non-null  object \n",
      " 16  vote_count            10866 non-null  int64  \n",
      " 17  vote_average          10866 non-null  float64\n",
      " 18  release_year          10866 non-null  int64  \n",
      " 19  budget_adj            10866 non-null  float64\n",
      " 20  revenue_adj           10866 non-null  float64\n",
      "dtypes: float64(4), int64(6), object(11)\n",
      "memory usage: 1.3+ MB\n"
     ]
    }
   ],
   "source": [
    "df.info()"
   ]
  },
  {
   "cell_type": "markdown",
   "id": "sonic-orlando",
   "metadata": {},
   "source": [
    "### 3. Dropping unecessary columns to make the data easier to manipulate. "
   ]
  },
  {
   "cell_type": "code",
   "execution_count": 87,
   "id": "retired-lecture",
   "metadata": {},
   "outputs": [],
   "source": [
    "df.drop(['imdb_id', 'cast', 'homepage', 'director', 'tagline', 'overview', 'production_companies', 'release_date'], axis=1, inplace = True)"
   ]
  },
  {
   "cell_type": "markdown",
   "id": "indie-davis",
   "metadata": {},
   "source": [
    "The budget_adj and revenue_adj columns are used as they account for the inflation over time, resulting in a more resonable comparison."
   ]
  },
  {
   "cell_type": "code",
   "execution_count": 88,
   "id": "civic-symposium",
   "metadata": {},
   "outputs": [],
   "source": [
    "df.drop(['keywords', 'id', 'vote_count', 'budget', 'revenue'], axis=1, inplace = True)"
   ]
  },
  {
   "cell_type": "code",
   "execution_count": 89,
   "id": "periodic-toronto",
   "metadata": {},
   "outputs": [
    {
     "data": {
      "text/html": [
       "<div>\n",
       "<style scoped>\n",
       "    .dataframe tbody tr th:only-of-type {\n",
       "        vertical-align: middle;\n",
       "    }\n",
       "\n",
       "    .dataframe tbody tr th {\n",
       "        vertical-align: top;\n",
       "    }\n",
       "\n",
       "    .dataframe thead th {\n",
       "        text-align: right;\n",
       "    }\n",
       "</style>\n",
       "<table border=\"1\" class=\"dataframe\">\n",
       "  <thead>\n",
       "    <tr style=\"text-align: right;\">\n",
       "      <th></th>\n",
       "      <th>popularity</th>\n",
       "      <th>original_title</th>\n",
       "      <th>runtime</th>\n",
       "      <th>genres</th>\n",
       "      <th>vote_average</th>\n",
       "      <th>release_year</th>\n",
       "      <th>budget_adj</th>\n",
       "      <th>revenue_adj</th>\n",
       "    </tr>\n",
       "  </thead>\n",
       "  <tbody>\n",
       "    <tr>\n",
       "      <th>0</th>\n",
       "      <td>32.985763</td>\n",
       "      <td>Jurassic World</td>\n",
       "      <td>124</td>\n",
       "      <td>Action|Adventure|Science Fiction|Thriller</td>\n",
       "      <td>6.5</td>\n",
       "      <td>2015</td>\n",
       "      <td>1.379999e+08</td>\n",
       "      <td>1.392446e+09</td>\n",
       "    </tr>\n",
       "    <tr>\n",
       "      <th>1</th>\n",
       "      <td>28.419936</td>\n",
       "      <td>Mad Max: Fury Road</td>\n",
       "      <td>120</td>\n",
       "      <td>Action|Adventure|Science Fiction|Thriller</td>\n",
       "      <td>7.1</td>\n",
       "      <td>2015</td>\n",
       "      <td>1.379999e+08</td>\n",
       "      <td>3.481613e+08</td>\n",
       "    </tr>\n",
       "    <tr>\n",
       "      <th>2</th>\n",
       "      <td>13.112507</td>\n",
       "      <td>Insurgent</td>\n",
       "      <td>119</td>\n",
       "      <td>Adventure|Science Fiction|Thriller</td>\n",
       "      <td>6.3</td>\n",
       "      <td>2015</td>\n",
       "      <td>1.012000e+08</td>\n",
       "      <td>2.716190e+08</td>\n",
       "    </tr>\n",
       "    <tr>\n",
       "      <th>3</th>\n",
       "      <td>11.173104</td>\n",
       "      <td>Star Wars: The Force Awakens</td>\n",
       "      <td>136</td>\n",
       "      <td>Action|Adventure|Science Fiction|Fantasy</td>\n",
       "      <td>7.5</td>\n",
       "      <td>2015</td>\n",
       "      <td>1.839999e+08</td>\n",
       "      <td>1.902723e+09</td>\n",
       "    </tr>\n",
       "    <tr>\n",
       "      <th>4</th>\n",
       "      <td>9.335014</td>\n",
       "      <td>Furious 7</td>\n",
       "      <td>137</td>\n",
       "      <td>Action|Crime|Thriller</td>\n",
       "      <td>7.3</td>\n",
       "      <td>2015</td>\n",
       "      <td>1.747999e+08</td>\n",
       "      <td>1.385749e+09</td>\n",
       "    </tr>\n",
       "  </tbody>\n",
       "</table>\n",
       "</div>"
      ],
      "text/plain": [
       "   popularity                original_title  runtime  \\\n",
       "0   32.985763                Jurassic World      124   \n",
       "1   28.419936            Mad Max: Fury Road      120   \n",
       "2   13.112507                     Insurgent      119   \n",
       "3   11.173104  Star Wars: The Force Awakens      136   \n",
       "4    9.335014                     Furious 7      137   \n",
       "\n",
       "                                      genres  vote_average  release_year  \\\n",
       "0  Action|Adventure|Science Fiction|Thriller           6.5          2015   \n",
       "1  Action|Adventure|Science Fiction|Thriller           7.1          2015   \n",
       "2         Adventure|Science Fiction|Thriller           6.3          2015   \n",
       "3   Action|Adventure|Science Fiction|Fantasy           7.5          2015   \n",
       "4                      Action|Crime|Thriller           7.3          2015   \n",
       "\n",
       "     budget_adj   revenue_adj  \n",
       "0  1.379999e+08  1.392446e+09  \n",
       "1  1.379999e+08  3.481613e+08  \n",
       "2  1.012000e+08  2.716190e+08  \n",
       "3  1.839999e+08  1.902723e+09  \n",
       "4  1.747999e+08  1.385749e+09  "
      ]
     },
     "execution_count": 89,
     "metadata": {},
     "output_type": "execute_result"
    }
   ],
   "source": [
    "df.head()"
   ]
  },
  {
   "cell_type": "markdown",
   "id": "incredible-princess",
   "metadata": {},
   "source": [
    "Now the data is cleaned up and ready to be explored. Important conclusions are drawn to answer the questions usign the exploration."
   ]
  },
  {
   "cell_type": "markdown",
   "id": "elegant-alfred",
   "metadata": {},
   "source": [
    "## Data Exploration "
   ]
  },
  {
   "cell_type": "markdown",
   "id": "universal-aircraft",
   "metadata": {},
   "source": [
    "### Initial Exploration \n",
    "First, simple and direct code is used to make quick analyses.\n",
    "\n",
    "Histograms are generated for the data to start seeing trends and making conclusions. The histograms are helpful, but none of the questions posed above are answered solely on the histograms so further exploration is necessary."
   ]
  },
  {
   "cell_type": "code",
   "execution_count": 90,
   "id": "bizarre-sleeve",
   "metadata": {},
   "outputs": [
    {
     "data": {
      "image/png": "[encoded data removed]",
      "text/plain": [
       "<Figure size 720x720 with 6 Axes>"
      ]
     },
     "metadata": {
      "needs_background": "light"
     },
     "output_type": "display_data"
    }
   ],
   "source": [
    "df.hist(figsize= (10,10));"
   ]
  },
  {
   "cell_type": "markdown",
   "id": "indie-details",
   "metadata": {},
   "source": [
    "Important stastics of the data are also obtained to be used to answer the questions posed. The mean, maximum, and all other statistics of the paramters used in the discussion below are obtained from the following table:"
   ]
  },
  {
   "cell_type": "code",
   "execution_count": 91,
   "id": "gentle-leeds",
   "metadata": {},
   "outputs": [
    {
     "data": {
      "text/html": [
       "<div>\n",
       "<style scoped>\n",
       "    .dataframe tbody tr th:only-of-type {\n",
       "        vertical-align: middle;\n",
       "    }\n",
       "\n",
       "    .dataframe tbody tr th {\n",
       "        vertical-align: top;\n",
       "    }\n",
       "\n",
       "    .dataframe thead th {\n",
       "        text-align: right;\n",
       "    }\n",
       "</style>\n",
       "<table border=\"1\" class=\"dataframe\">\n",
       "  <thead>\n",
       "    <tr style=\"text-align: right;\">\n",
       "      <th></th>\n",
       "      <th>popularity</th>\n",
       "      <th>runtime</th>\n",
       "      <th>vote_average</th>\n",
       "      <th>release_year</th>\n",
       "      <th>budget_adj</th>\n",
       "      <th>revenue_adj</th>\n",
       "    </tr>\n",
       "  </thead>\n",
       "  <tbody>\n",
       "    <tr>\n",
       "      <th>count</th>\n",
       "      <td>10866.000000</td>\n",
       "      <td>10866.000000</td>\n",
       "      <td>10866.000000</td>\n",
       "      <td>10866.000000</td>\n",
       "      <td>1.086600e+04</td>\n",
       "      <td>1.086600e+04</td>\n",
       "    </tr>\n",
       "    <tr>\n",
       "      <th>mean</th>\n",
       "      <td>0.646441</td>\n",
       "      <td>102.070863</td>\n",
       "      <td>5.974922</td>\n",
       "      <td>2001.322658</td>\n",
       "      <td>1.755104e+07</td>\n",
       "      <td>5.136436e+07</td>\n",
       "    </tr>\n",
       "    <tr>\n",
       "      <th>std</th>\n",
       "      <td>1.000185</td>\n",
       "      <td>31.381405</td>\n",
       "      <td>0.935142</td>\n",
       "      <td>12.812941</td>\n",
       "      <td>3.430616e+07</td>\n",
       "      <td>1.446325e+08</td>\n",
       "    </tr>\n",
       "    <tr>\n",
       "      <th>min</th>\n",
       "      <td>0.000065</td>\n",
       "      <td>0.000000</td>\n",
       "      <td>1.500000</td>\n",
       "      <td>1960.000000</td>\n",
       "      <td>0.000000e+00</td>\n",
       "      <td>0.000000e+00</td>\n",
       "    </tr>\n",
       "    <tr>\n",
       "      <th>25%</th>\n",
       "      <td>0.207583</td>\n",
       "      <td>90.000000</td>\n",
       "      <td>5.400000</td>\n",
       "      <td>1995.000000</td>\n",
       "      <td>0.000000e+00</td>\n",
       "      <td>0.000000e+00</td>\n",
       "    </tr>\n",
       "    <tr>\n",
       "      <th>50%</th>\n",
       "      <td>0.383856</td>\n",
       "      <td>99.000000</td>\n",
       "      <td>6.000000</td>\n",
       "      <td>2006.000000</td>\n",
       "      <td>0.000000e+00</td>\n",
       "      <td>0.000000e+00</td>\n",
       "    </tr>\n",
       "    <tr>\n",
       "      <th>75%</th>\n",
       "      <td>0.713817</td>\n",
       "      <td>111.000000</td>\n",
       "      <td>6.600000</td>\n",
       "      <td>2011.000000</td>\n",
       "      <td>2.085325e+07</td>\n",
       "      <td>3.369710e+07</td>\n",
       "    </tr>\n",
       "    <tr>\n",
       "      <th>max</th>\n",
       "      <td>32.985763</td>\n",
       "      <td>900.000000</td>\n",
       "      <td>9.200000</td>\n",
       "      <td>2015.000000</td>\n",
       "      <td>4.250000e+08</td>\n",
       "      <td>2.827124e+09</td>\n",
       "    </tr>\n",
       "  </tbody>\n",
       "</table>\n",
       "</div>"
      ],
      "text/plain": [
       "         popularity       runtime  vote_average  release_year    budget_adj  \\\n",
       "count  10866.000000  10866.000000  10866.000000  10866.000000  1.086600e+04   \n",
       "mean       0.646441    102.070863      5.974922   2001.322658  1.755104e+07   \n",
       "std        1.000185     31.381405      0.935142     12.812941  3.430616e+07   \n",
       "min        0.000065      0.000000      1.500000   1960.000000  0.000000e+00   \n",
       "25%        0.207583     90.000000      5.400000   1995.000000  0.000000e+00   \n",
       "50%        0.383856     99.000000      6.000000   2006.000000  0.000000e+00   \n",
       "75%        0.713817    111.000000      6.600000   2011.000000  2.085325e+07   \n",
       "max       32.985763    900.000000      9.200000   2015.000000  4.250000e+08   \n",
       "\n",
       "        revenue_adj  \n",
       "count  1.086600e+04  \n",
       "mean   5.136436e+07  \n",
       "std    1.446325e+08  \n",
       "min    0.000000e+00  \n",
       "25%    0.000000e+00  \n",
       "50%    0.000000e+00  \n",
       "75%    3.369710e+07  \n",
       "max    2.827124e+09  "
      ]
     },
     "execution_count": 91,
     "metadata": {},
     "output_type": "execute_result"
    }
   ],
   "source": [
    "df.describe()"
   ]
  },
  {
   "cell_type": "markdown",
   "id": "convenient-beads",
   "metadata": {},
   "source": [
    "## Discussion and Conclusion"
   ]
  },
  {
   "cell_type": "markdown",
   "id": "cleared-madness",
   "metadata": {},
   "source": [
    "### Q1. How does the runtime affect the user ratings of a movie?"
   ]
  },
  {
   "cell_type": "markdown",
   "id": "varying-admission",
   "metadata": {},
   "source": [
    "First, there are rows for which the runtime is listed as zero. Those rows are dropped as they may introduce an error to the analysis."
   ]
  },
  {
   "cell_type": "code",
   "execution_count": 92,
   "id": "inner-inflation",
   "metadata": {},
   "outputs": [
    {
     "data": {
      "text/html": [
       "<div>\n",
       "<style scoped>\n",
       "    .dataframe tbody tr th:only-of-type {\n",
       "        vertical-align: middle;\n",
       "    }\n",
       "\n",
       "    .dataframe tbody tr th {\n",
       "        vertical-align: top;\n",
       "    }\n",
       "\n",
       "    .dataframe thead th {\n",
       "        text-align: right;\n",
       "    }\n",
       "</style>\n",
       "<table border=\"1\" class=\"dataframe\">\n",
       "  <thead>\n",
       "    <tr style=\"text-align: right;\">\n",
       "      <th></th>\n",
       "      <th>popularity</th>\n",
       "      <th>runtime</th>\n",
       "      <th>vote_average</th>\n",
       "      <th>release_year</th>\n",
       "      <th>budget_adj</th>\n",
       "      <th>revenue_adj</th>\n",
       "    </tr>\n",
       "  </thead>\n",
       "  <tbody>\n",
       "    <tr>\n",
       "      <th>count</th>\n",
       "      <td>10835.000000</td>\n",
       "      <td>10835.000000</td>\n",
       "      <td>10835.000000</td>\n",
       "      <td>10835.000000</td>\n",
       "      <td>1.083500e+04</td>\n",
       "      <td>1.083500e+04</td>\n",
       "    </tr>\n",
       "    <tr>\n",
       "      <th>mean</th>\n",
       "      <td>0.647757</td>\n",
       "      <td>102.362898</td>\n",
       "      <td>5.976253</td>\n",
       "      <td>2001.296078</td>\n",
       "      <td>1.760010e+07</td>\n",
       "      <td>5.151132e+07</td>\n",
       "    </tr>\n",
       "    <tr>\n",
       "      <th>std</th>\n",
       "      <td>1.001158</td>\n",
       "      <td>30.946957</td>\n",
       "      <td>0.935051</td>\n",
       "      <td>12.819389</td>\n",
       "      <td>3.434284e+07</td>\n",
       "      <td>1.448131e+08</td>\n",
       "    </tr>\n",
       "    <tr>\n",
       "      <th>min</th>\n",
       "      <td>0.000065</td>\n",
       "      <td>2.000000</td>\n",
       "      <td>1.500000</td>\n",
       "      <td>1960.000000</td>\n",
       "      <td>0.000000e+00</td>\n",
       "      <td>0.000000e+00</td>\n",
       "    </tr>\n",
       "    <tr>\n",
       "      <th>25%</th>\n",
       "      <td>0.208561</td>\n",
       "      <td>90.000000</td>\n",
       "      <td>5.400000</td>\n",
       "      <td>1995.000000</td>\n",
       "      <td>0.000000e+00</td>\n",
       "      <td>0.000000e+00</td>\n",
       "    </tr>\n",
       "    <tr>\n",
       "      <th>50%</th>\n",
       "      <td>0.384763</td>\n",
       "      <td>99.000000</td>\n",
       "      <td>6.000000</td>\n",
       "      <td>2006.000000</td>\n",
       "      <td>0.000000e+00</td>\n",
       "      <td>0.000000e+00</td>\n",
       "    </tr>\n",
       "    <tr>\n",
       "      <th>75%</th>\n",
       "      <td>0.715444</td>\n",
       "      <td>112.000000</td>\n",
       "      <td>6.600000</td>\n",
       "      <td>2011.000000</td>\n",
       "      <td>2.094485e+07</td>\n",
       "      <td>3.389248e+07</td>\n",
       "    </tr>\n",
       "    <tr>\n",
       "      <th>max</th>\n",
       "      <td>32.985763</td>\n",
       "      <td>900.000000</td>\n",
       "      <td>9.200000</td>\n",
       "      <td>2015.000000</td>\n",
       "      <td>4.250000e+08</td>\n",
       "      <td>2.827124e+09</td>\n",
       "    </tr>\n",
       "  </tbody>\n",
       "</table>\n",
       "</div>"
      ],
      "text/plain": [
       "         popularity       runtime  vote_average  release_year    budget_adj  \\\n",
       "count  10835.000000  10835.000000  10835.000000  10835.000000  1.083500e+04   \n",
       "mean       0.647757    102.362898      5.976253   2001.296078  1.760010e+07   \n",
       "std        1.001158     30.946957      0.935051     12.819389  3.434284e+07   \n",
       "min        0.000065      2.000000      1.500000   1960.000000  0.000000e+00   \n",
       "25%        0.208561     90.000000      5.400000   1995.000000  0.000000e+00   \n",
       "50%        0.384763     99.000000      6.000000   2006.000000  0.000000e+00   \n",
       "75%        0.715444    112.000000      6.600000   2011.000000  2.094485e+07   \n",
       "max       32.985763    900.000000      9.200000   2015.000000  4.250000e+08   \n",
       "\n",
       "        revenue_adj  \n",
       "count  1.083500e+04  \n",
       "mean   5.151132e+07  \n",
       "std    1.448131e+08  \n",
       "min    0.000000e+00  \n",
       "25%    0.000000e+00  \n",
       "50%    0.000000e+00  \n",
       "75%    3.389248e+07  \n",
       "max    2.827124e+09  "
      ]
     },
     "execution_count": 92,
     "metadata": {},
     "output_type": "execute_result"
    }
   ],
   "source": [
    "df.drop(index = df[df['runtime'] == 0].index , inplace = True)\n",
    "df.describe()"
   ]
  },
  {
   "cell_type": "markdown",
   "id": "national-yacht",
   "metadata": {},
   "source": [
    "To answer this, a scatterplot is plotted to visualize the effect of runtime on user ratings."
   ]
  },
  {
   "cell_type": "code",
   "execution_count": 93,
   "id": "figured-multiple",
   "metadata": {},
   "outputs": [],
   "source": [
    "x = df['runtime']\n",
    "\n",
    "y = df['vote_average']\n",
    "\n",
    "runtime_avg = np.mean(x)"
   ]
  },
  {
   "cell_type": "code",
   "execution_count": 94,
   "id": "athletic-sponsorship",
   "metadata": {},
   "outputs": [
    {
     "data": {
      "text/plain": [
       "Text(0, 0.5, 'Average user rating')"
      ]
     },
     "execution_count": 94,
     "metadata": {},
     "output_type": "execute_result"
    },
    {
     "data": {
      "image/png": "[encoded data removed]",
      "text/plain": [
       "<Figure size 720x720 with 1 Axes>"
      ]
     },
     "metadata": {
      "needs_background": "light"
     },
     "output_type": "display_data"
    }
   ],
   "source": [
    "plt.scatter(x,y, s= 20)\n",
    "plt.xlabel('Runtime (min)')\n",
    "plt.ylabel('Average user rating')"
   ]
  },
  {
   "cell_type": "markdown",
   "id": "excellent-pizza",
   "metadata": {},
   "source": [
    "Most of the films with lower ratings have a runtime of around or less than the mean runtime (102 minutes). As the runtime gets longer, more and more movies have a rating above average (6). The highest rated movie has the longest runtime. It appears that as the runtime gets longer, the scatter of plots becomes more populated in the upper half corresponding to a highr rating. However, there are limitations. \n",
    "\n",
    "### Limitations: \n",
    "\n",
    "There is a far greater number of movies with a lower runtime, near the mean of 102 mins , than there are movies with a longer runtime, near the maximum of 900 mins. This means there a far greater chance for a movie with a smaller runtime to have a lower rating simply because there is a lot more of them. The number of users voting is not the same for all the movies which means the average rating is effected by anomalies for some movies.\n",
    "\n",
    "### Tying it all together:\n",
    "The trend shows that a longer runtime corresponds to a higher rating. But, other factors are also at play which are not considered. There are a lot more movies with a smaller runtime which includes movie with a bad story line and bad production. It is possible that the highest rated movie which also has the longest runtime, is a masterpiece. The few number of movies with longer runtimes could be exceptionally good resulting in a higher rating and runtime could have had nothing to do with their ratings. So more data of movies with a long runtime is needed to reach a hard verdict.\n",
    "\n",
    "Answering the question: Movies with a longer runtime tend to have a rating above average, and most of the movies with below average rating have a smaller runtime. With a longer runtime, a higher rating is more probable according to the data, but limitations apply."
   ]
  },
  {
   "cell_type": "markdown",
   "id": "controlled-retailer",
   "metadata": {},
   "source": [
    "### Q2. Does a higher budget result in a more popular film?"
   ]
  },
  {
   "cell_type": "markdown",
   "id": "senior-consideration",
   "metadata": {},
   "source": [
    "For some movies, the budget value is not provided and is listed as 0, and for some the popularity value is listed as 0. If the budget is listed a 0, but a value for the popularity is provided or the other way round, then the analysis will have an error associated to it. Thus, rows containing a value of 0 for either column are deleted."
   ]
  },
  {
   "cell_type": "code",
   "execution_count": 95,
   "id": "automatic-belle",
   "metadata": {},
   "outputs": [
    {
     "data": {
      "text/html": [
       "<div>\n",
       "<style scoped>\n",
       "    .dataframe tbody tr th:only-of-type {\n",
       "        vertical-align: middle;\n",
       "    }\n",
       "\n",
       "    .dataframe tbody tr th {\n",
       "        vertical-align: top;\n",
       "    }\n",
       "\n",
       "    .dataframe thead th {\n",
       "        text-align: right;\n",
       "    }\n",
       "</style>\n",
       "<table border=\"1\" class=\"dataframe\">\n",
       "  <thead>\n",
       "    <tr style=\"text-align: right;\">\n",
       "      <th></th>\n",
       "      <th>popularity</th>\n",
       "      <th>runtime</th>\n",
       "      <th>vote_average</th>\n",
       "      <th>release_year</th>\n",
       "      <th>budget_adj</th>\n",
       "      <th>revenue_adj</th>\n",
       "    </tr>\n",
       "  </thead>\n",
       "  <tbody>\n",
       "    <tr>\n",
       "      <th>count</th>\n",
       "      <td>5167.000000</td>\n",
       "      <td>5167.000000</td>\n",
       "      <td>5167.000000</td>\n",
       "      <td>5167.000000</td>\n",
       "      <td>5.167000e+03</td>\n",
       "      <td>5.167000e+03</td>\n",
       "    </tr>\n",
       "    <tr>\n",
       "      <th>mean</th>\n",
       "      <td>0.992748</td>\n",
       "      <td>107.155409</td>\n",
       "      <td>6.032901</td>\n",
       "      <td>2001.249468</td>\n",
       "      <td>3.690673e+07</td>\n",
       "      <td>1.022350e+08</td>\n",
       "    </tr>\n",
       "    <tr>\n",
       "      <th>std</th>\n",
       "      <td>1.329408</td>\n",
       "      <td>22.668905</td>\n",
       "      <td>0.883457</td>\n",
       "      <td>11.777895</td>\n",
       "      <td>4.196174e+07</td>\n",
       "      <td>1.959469e+08</td>\n",
       "    </tr>\n",
       "    <tr>\n",
       "      <th>min</th>\n",
       "      <td>0.001117</td>\n",
       "      <td>4.000000</td>\n",
       "      <td>1.500000</td>\n",
       "      <td>1960.000000</td>\n",
       "      <td>9.210911e-01</td>\n",
       "      <td>0.000000e+00</td>\n",
       "    </tr>\n",
       "    <tr>\n",
       "      <th>25%</th>\n",
       "      <td>0.348090</td>\n",
       "      <td>93.000000</td>\n",
       "      <td>5.500000</td>\n",
       "      <td>1996.000000</td>\n",
       "      <td>8.105479e+06</td>\n",
       "      <td>0.000000e+00</td>\n",
       "    </tr>\n",
       "    <tr>\n",
       "      <th>50%</th>\n",
       "      <td>0.624900</td>\n",
       "      <td>103.000000</td>\n",
       "      <td>6.100000</td>\n",
       "      <td>2005.000000</td>\n",
       "      <td>2.274082e+07</td>\n",
       "      <td>2.866447e+07</td>\n",
       "    </tr>\n",
       "    <tr>\n",
       "      <th>75%</th>\n",
       "      <td>1.152677</td>\n",
       "      <td>117.000000</td>\n",
       "      <td>6.600000</td>\n",
       "      <td>2010.000000</td>\n",
       "      <td>5.008384e+07</td>\n",
       "      <td>1.134339e+08</td>\n",
       "    </tr>\n",
       "    <tr>\n",
       "      <th>max</th>\n",
       "      <td>32.985763</td>\n",
       "      <td>540.000000</td>\n",
       "      <td>8.400000</td>\n",
       "      <td>2015.000000</td>\n",
       "      <td>4.250000e+08</td>\n",
       "      <td>2.827124e+09</td>\n",
       "    </tr>\n",
       "  </tbody>\n",
       "</table>\n",
       "</div>"
      ],
      "text/plain": [
       "        popularity      runtime  vote_average  release_year    budget_adj  \\\n",
       "count  5167.000000  5167.000000   5167.000000   5167.000000  5.167000e+03   \n",
       "mean      0.992748   107.155409      6.032901   2001.249468  3.690673e+07   \n",
       "std       1.329408    22.668905      0.883457     11.777895  4.196174e+07   \n",
       "min       0.001117     4.000000      1.500000   1960.000000  9.210911e-01   \n",
       "25%       0.348090    93.000000      5.500000   1996.000000  8.105479e+06   \n",
       "50%       0.624900   103.000000      6.100000   2005.000000  2.274082e+07   \n",
       "75%       1.152677   117.000000      6.600000   2010.000000  5.008384e+07   \n",
       "max      32.985763   540.000000      8.400000   2015.000000  4.250000e+08   \n",
       "\n",
       "        revenue_adj  \n",
       "count  5.167000e+03  \n",
       "mean   1.022350e+08  \n",
       "std    1.959469e+08  \n",
       "min    0.000000e+00  \n",
       "25%    0.000000e+00  \n",
       "50%    2.866447e+07  \n",
       "75%    1.134339e+08  \n",
       "max    2.827124e+09  "
      ]
     },
     "execution_count": 95,
     "metadata": {},
     "output_type": "execute_result"
    }
   ],
   "source": [
    "df.drop(index = df[df['budget_adj'] == 0].index , inplace = True)\n",
    "df.drop(index = df[df['popularity'] == 0].index, inplace = True )\n",
    "df.describe()"
   ]
  },
  {
   "cell_type": "markdown",
   "id": "aquatic-philadelphia",
   "metadata": {},
   "source": [
    "Now, for the further cleaned data, a scatterplot is plotted to visualize the trend between budget and popularity."
   ]
  },
  {
   "cell_type": "code",
   "execution_count": 96,
   "id": "excited-topic",
   "metadata": {},
   "outputs": [],
   "source": [
    "xx = df['budget_adj']\n",
    "yy = df['popularity']"
   ]
  },
  {
   "cell_type": "code",
   "execution_count": 97,
   "id": "forward-particular",
   "metadata": {},
   "outputs": [
    {
     "data": {
      "text/plain": [
       "Text(0, 0.5, 'Popularity')"
      ]
     },
     "execution_count": 97,
     "metadata": {},
     "output_type": "execute_result"
    },
    {
     "data": {
      "image/png": "[encoded data removed]",
      "text/plain": [
       "<Figure size 720x720 with 1 Axes>"
      ]
     },
     "metadata": {
      "needs_background": "light"
     },
     "output_type": "display_data"
    }
   ],
   "source": [
    "plt.scatter(xx,yy, s= 20 , c = 'red' )\n",
    "plt.xlabel('Budget (2010 $)')\n",
    "plt.ylabel('Popularity')"
   ]
  },
  {
   "cell_type": "markdown",
   "id": "alone-membrane",
   "metadata": {},
   "source": [
    "There is no significant trend between the budget of a film and it's popularity. The film with the lowest budget and the film with the highest budget both have a low popularity rating. The films with a budget less than half of the maximimum budget (4.25e+08 dollars), but greater than the mean budget (3.69e+07 dollars) seem to be most popular. The only trend this data shows is that films with an excessively high budget are less popular. Films with a budget around and a little greater than the mean tend to be more popular. Very little correlation can be see here so factors other than budget have a greater impact on the popularity of a film. \n",
    "\n",
    "Answering the question: a higher budget does not result in a more popular film, the data shows that it is the other way round."
   ]
  },
  {
   "cell_type": "markdown",
   "id": "noble-condition",
   "metadata": {},
   "source": [
    "### Q3. Are people watching more movies now? Has the revenue increased overtime?"
   ]
  },
  {
   "cell_type": "markdown",
   "id": "lightweight-cornwall",
   "metadata": {},
   "source": [
    "The data is cleaned further to remove the rows which have a value of 0 for the revenue. "
   ]
  },
  {
   "cell_type": "code",
   "execution_count": 98,
   "id": "computational-failure",
   "metadata": {},
   "outputs": [],
   "source": [
    "df.drop(index = df[df['revenue_adj'] == 0].index , inplace = True)"
   ]
  },
  {
   "cell_type": "markdown",
   "id": "green-spirituality",
   "metadata": {},
   "source": [
    "A bar graph in which each bar goes up to the maximum revenue generated in a year is plotted to visualize how the revenue has changed with the years."
   ]
  },
  {
   "cell_type": "code",
   "execution_count": 99,
   "id": "still-drill",
   "metadata": {},
   "outputs": [
    {
     "data": {
      "text/plain": [
       "Text(0, 0.5, 'Revenue (2010 $)')"
      ]
     },
     "execution_count": 99,
     "metadata": {},
     "output_type": "execute_result"
    },
    {
     "data": {
      "image/png": "[encoded data removed]",
      "text/plain": [
       "<Figure size 720x720 with 1 Axes>"
      ]
     },
     "metadata": {
      "needs_background": "light"
     },
     "output_type": "display_data"
    }
   ],
   "source": [
    "y= df['revenue_adj'] \n",
    "x= df['release_year'] \n",
    "\n",
    "plt.bar(x,y)\n",
    "plt.xlabel('Year')\n",
    "plt.ylabel('Revenue (2010 $)')"
   ]
  },
  {
   "cell_type": "markdown",
   "id": "norman-bachelor",
   "metadata": {},
   "source": [
    "From the bar graph, it looks like that the revenue generated has increased over the years. However, the bars represent the maximimum revenue genererated in each year and the maximum might not accurately represent the revenue of a year. Therefore, to reach a more quantitative solution, the mean revenue generated in the last 15 (2000-2015) years and the mean revenue generated in the firt 15 years (1960-1975) are determined and compared.  "
   ]
  },
  {
   "cell_type": "code",
   "execution_count": 100,
   "id": "incident-gather",
   "metadata": {},
   "outputs": [
    {
     "name": "stdout",
     "output_type": "stream",
     "text": [
      "125986687.87768252\n"
     ]
    }
   ],
   "source": [
    "#A loop is used to determine the mean revenue of a specified time period\n",
    "mean_tot = 0\n",
    "\n",
    "# Mean revenue from 2000-2015\n",
    "for i in range (2000, 2015):\n",
    "    yr = df.drop(index = df[df['release_year'] != i].index) \n",
    "    inc = np.mean(yr['revenue_adj']) \n",
    "    mean_tot += inc \n",
    "    mean_rev = mean_tot/15\n",
    "    yr = df\n",
    "    \n",
    "print (mean_rev)"
   ]
  },
  {
   "cell_type": "code",
   "execution_count": 101,
   "id": "suited-motion",
   "metadata": {},
   "outputs": [
    {
     "name": "stdout",
     "output_type": "stream",
     "text": [
      "283471099.081762\n"
     ]
    }
   ],
   "source": [
    "# Mean revenue from 1960-1975\n",
    "\n",
    "mean_tot = 0\n",
    "\n",
    "for i in range (1960, 1975):\n",
    "    yr = df.drop(index = df[df['release_year'] != i].index) \n",
    "    inc = np.mean(yr['revenue_adj']) \n",
    "    mean_tot += inc \n",
    "    mean_revf = mean_tot/15\n",
    "    yr = df\n",
    "   \n",
    "print (mean_revf)"
   ]
  },
  {
   "cell_type": "markdown",
   "id": "recreational-present",
   "metadata": {},
   "source": [
    "The mean revenue generated in the years 1960-1970 is greater than the mean revenue generated in the years 2000-2015. This implies that more people watched movies in the the past than they do now. However, there are limitations to this verdict. \n",
    "\n",
    "### Limitations: \n",
    "There are cheaper ways to watch movies now, so the viewers could have increased and the price to watch movies could have decreased, resulting in a lower revenue. In recent times, ways to watch movies without paying such as pirating them have become more common. It is possible that more people are watching movies now without paying and not contributing to its revenue.\n",
    "\n",
    "### Tying it all together: \n",
    "The chart shows that the maximum revenue by a movie each year has increased. This means that in most years there is a movie now which amasses a big revenue. However, the mean revenue has decreased over time. This means that overall movies make a smaller revenue than they did before. A smaller revenue translates to a smaller viewership. But back in the day, the cinema culture was stronger so more people paid to watch a movie. Now, streaming and pirating have made it cheaper to watch a movie. So even though this data set implies viewership has decreased, more data is needed to prove that.\n",
    "\n",
    "Answering the question: According to the data, a smaller revenue was generated in the recent years corresponding to a smaller audience. However, this conclusion is hard to believe as the population of the world has increased and it is easier to watch films now, so further exploration is necessary. "
   ]
  },
  {
   "cell_type": "markdown",
   "id": "specified-tackle",
   "metadata": {},
   "source": [
    "### Q4. How to maximize the revenue of a film? "
   ]
  },
  {
   "cell_type": "markdown",
   "id": "handled-lawsuit",
   "metadata": {},
   "source": [
    "Finding the row with the maximum value of revenue in the data set. "
   ]
  },
  {
   "cell_type": "code",
   "execution_count": 102,
   "id": "powered-ability",
   "metadata": {},
   "outputs": [
    {
     "data": {
      "text/plain": [
       "344"
      ]
     },
     "execution_count": 102,
     "metadata": {},
     "output_type": "execute_result"
    }
   ],
   "source": [
    "df['revenue_adj'].argmax()"
   ]
  },
  {
   "cell_type": "code",
   "execution_count": 103,
   "id": "overall-expansion",
   "metadata": {},
   "outputs": [
    {
     "data": {
      "text/plain": [
       "popularity                                        9.432768\n",
       "original_title                                      Avatar\n",
       "runtime                                                162\n",
       "genres            Action|Adventure|Fantasy|Science Fiction\n",
       "vote_average                                           7.1\n",
       "release_year                                          2009\n",
       "budget_adj                                240886902.887613\n",
       "revenue_adj                               2827123750.41189\n",
       "Name: 1386, dtype: object"
      ]
     },
     "metadata": {},
     "output_type": "display_data"
    }
   ],
   "source": [
    "display(df.iloc[344])"
   ]
  },
  {
   "cell_type": "code",
   "execution_count": 104,
   "id": "geological-screen",
   "metadata": {},
   "outputs": [
    {
     "data": {
      "text/html": [
       "<div>\n",
       "<style scoped>\n",
       "    .dataframe tbody tr th:only-of-type {\n",
       "        vertical-align: middle;\n",
       "    }\n",
       "\n",
       "    .dataframe tbody tr th {\n",
       "        vertical-align: top;\n",
       "    }\n",
       "\n",
       "    .dataframe thead th {\n",
       "        text-align: right;\n",
       "    }\n",
       "</style>\n",
       "<table border=\"1\" class=\"dataframe\">\n",
       "  <thead>\n",
       "    <tr style=\"text-align: right;\">\n",
       "      <th></th>\n",
       "      <th>popularity</th>\n",
       "      <th>runtime</th>\n",
       "      <th>vote_average</th>\n",
       "      <th>release_year</th>\n",
       "      <th>budget_adj</th>\n",
       "      <th>revenue_adj</th>\n",
       "    </tr>\n",
       "  </thead>\n",
       "  <tbody>\n",
       "    <tr>\n",
       "      <th>count</th>\n",
       "      <td>3855.000000</td>\n",
       "      <td>3855.000000</td>\n",
       "      <td>3855.00000</td>\n",
       "      <td>3855.000000</td>\n",
       "      <td>3.855000e+03</td>\n",
       "      <td>3.855000e+03</td>\n",
       "    </tr>\n",
       "    <tr>\n",
       "      <th>mean</th>\n",
       "      <td>1.191400</td>\n",
       "      <td>109.215824</td>\n",
       "      <td>6.16786</td>\n",
       "      <td>2001.263294</td>\n",
       "      <td>4.423630e+07</td>\n",
       "      <td>1.370294e+08</td>\n",
       "    </tr>\n",
       "    <tr>\n",
       "      <th>std</th>\n",
       "      <td>1.475002</td>\n",
       "      <td>19.922166</td>\n",
       "      <td>0.79504</td>\n",
       "      <td>11.281989</td>\n",
       "      <td>4.480403e+07</td>\n",
       "      <td>2.160944e+08</td>\n",
       "    </tr>\n",
       "    <tr>\n",
       "      <th>min</th>\n",
       "      <td>0.001117</td>\n",
       "      <td>15.000000</td>\n",
       "      <td>2.20000</td>\n",
       "      <td>1960.000000</td>\n",
       "      <td>9.693980e-01</td>\n",
       "      <td>2.370705e+00</td>\n",
       "    </tr>\n",
       "    <tr>\n",
       "      <th>25%</th>\n",
       "      <td>0.462448</td>\n",
       "      <td>95.000000</td>\n",
       "      <td>5.70000</td>\n",
       "      <td>1995.000000</td>\n",
       "      <td>1.309053e+07</td>\n",
       "      <td>1.834123e+07</td>\n",
       "    </tr>\n",
       "    <tr>\n",
       "      <th>50%</th>\n",
       "      <td>0.797298</td>\n",
       "      <td>106.000000</td>\n",
       "      <td>6.20000</td>\n",
       "      <td>2004.000000</td>\n",
       "      <td>3.001558e+07</td>\n",
       "      <td>6.171861e+07</td>\n",
       "    </tr>\n",
       "    <tr>\n",
       "      <th>75%</th>\n",
       "      <td>1.368245</td>\n",
       "      <td>119.000000</td>\n",
       "      <td>6.70000</td>\n",
       "      <td>2010.000000</td>\n",
       "      <td>6.061307e+07</td>\n",
       "      <td>1.632401e+08</td>\n",
       "    </tr>\n",
       "    <tr>\n",
       "      <th>max</th>\n",
       "      <td>32.985763</td>\n",
       "      <td>338.000000</td>\n",
       "      <td>8.40000</td>\n",
       "      <td>2015.000000</td>\n",
       "      <td>4.250000e+08</td>\n",
       "      <td>2.827124e+09</td>\n",
       "    </tr>\n",
       "  </tbody>\n",
       "</table>\n",
       "</div>"
      ],
      "text/plain": [
       "        popularity      runtime  vote_average  release_year    budget_adj  \\\n",
       "count  3855.000000  3855.000000    3855.00000   3855.000000  3.855000e+03   \n",
       "mean      1.191400   109.215824       6.16786   2001.263294  4.423630e+07   \n",
       "std       1.475002    19.922166       0.79504     11.281989  4.480403e+07   \n",
       "min       0.001117    15.000000       2.20000   1960.000000  9.693980e-01   \n",
       "25%       0.462448    95.000000       5.70000   1995.000000  1.309053e+07   \n",
       "50%       0.797298   106.000000       6.20000   2004.000000  3.001558e+07   \n",
       "75%       1.368245   119.000000       6.70000   2010.000000  6.061307e+07   \n",
       "max      32.985763   338.000000       8.40000   2015.000000  4.250000e+08   \n",
       "\n",
       "        revenue_adj  \n",
       "count  3.855000e+03  \n",
       "mean   1.370294e+08  \n",
       "std    2.160944e+08  \n",
       "min    2.370705e+00  \n",
       "25%    1.834123e+07  \n",
       "50%    6.171861e+07  \n",
       "75%    1.632401e+08  \n",
       "max    2.827124e+09  "
      ]
     },
     "execution_count": 104,
     "metadata": {},
     "output_type": "execute_result"
    }
   ],
   "source": [
    "df.describe()"
   ]
  },
  {
   "cell_type": "markdown",
   "id": "worst-arthritis",
   "metadata": {},
   "source": [
    "When the maximum revenue occurs in the dataset, the runtime is longer than average and the budget is greater than average. This is not enough to draw a conclusion. Trends of how the revenue varies with the budget and the runtime are looked at by plotting scatterplots."
   ]
  },
  {
   "cell_type": "code",
   "execution_count": 105,
   "id": "classified-draft",
   "metadata": {},
   "outputs": [
    {
     "data": {
      "text/plain": [
       "Text(0, 0.5, 'Revenue (2010 $)')"
      ]
     },
     "execution_count": 105,
     "metadata": {},
     "output_type": "execute_result"
    },
    {
     "data": {
      "image/png": "[encoded data removed]",
      "text/plain": [
       "<Figure size 720x720 with 1 Axes>"
      ]
     },
     "metadata": {
      "needs_background": "light"
     },
     "output_type": "display_data"
    }
   ],
   "source": [
    "y= df['revenue_adj'] \n",
    "x= df['runtime'] \n",
    "\n",
    "plt.scatter(x,y)\n",
    "plt.xlabel('Runtime (min)')\n",
    "plt.ylabel('Revenue (2010 $)')"
   ]
  },
  {
   "cell_type": "markdown",
   "id": "fifty-mason",
   "metadata": {},
   "source": [
    "The concentration of data points with revenue greater than the mean revenue tend to be within 40% of the average runtime. If the runtime is greater that 40% of the average or lower than 40% of the average, the movie has a low revenue; the movies at the extremes have low revenues. This finding supports the data value with the highest revenue which is obtained above. The movie with the highest revenue has a runtime greater than 45% of the average runtime."
   ]
  },
  {
   "cell_type": "code",
   "execution_count": 106,
   "id": "united-participation",
   "metadata": {},
   "outputs": [
    {
     "data": {
      "text/plain": [
       "Text(0, 0.5, 'Revenue (2010 $)')"
      ]
     },
     "execution_count": 106,
     "metadata": {},
     "output_type": "execute_result"
    },
    {
     "data": {
      "image/png": "[encoded data removed]",
      "text/plain": [
       "<Figure size 720x720 with 1 Axes>"
      ]
     },
     "metadata": {
      "needs_background": "light"
     },
     "output_type": "display_data"
    }
   ],
   "source": [
    "y= df['revenue_adj'] \n",
    "x= df['budget_adj'] \n",
    "\n",
    "plt.scatter(x,y)\n",
    "plt.xlabel('Budget (2010 $)')\n",
    "plt.ylabel('Revenue (2010 $)')"
   ]
  },
  {
   "cell_type": "markdown",
   "id": "neutral-salem",
   "metadata": {},
   "source": [
    "In general, as budget increases, the population of the points moves upwards corresponding to a higher revenue. That being said, there are movies with some of the highest revenues in the data set which have a budget around or less than the mean budget. The movie with the highest revenue in this data set has a budget about 5 times greater than the mean budget. Some movies with a low budget have a high revenue and some movies with a high budget have a high revenue, so there is no clear correlation. Therefore, factors other than budget have a greater effect on revenue. "
   ]
  },
  {
   "cell_type": "markdown",
   "id": "obvious-shape",
   "metadata": {},
   "source": [
    "### Tying it all together: \n",
    "The highest revenue occurs when the runtime is within 40% of the average runtime, and not at the extremes. Furthermore, the highest revenues occur when the budget is close to mean or much larger than the mean. The data is very variable and there is no clear trend, so factors other than budget have a greater impact on the revenue. \n"
   ]
  }
 ],
 "metadata": {
  "kernelspec": {
   "display_name": "Python 3",
   "language": "python",
   "name": "python3"
  },
  "language_info": {
   "codemirror_mode": {
    "name": "ipython",
    "version": 3
   },
   "file_extension": ".py",
   "mimetype": "text/x-python",
   "name": "python",
   "nbconvert_exporter": "python",
   "pygments_lexer": "ipython3",
   "version": "3.8.5"
  }
 },
 "nbformat": 4,
 "nbformat_minor": 5
}
